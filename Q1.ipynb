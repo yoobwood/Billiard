{
 "cells": [
  {
   "cell_type": "markdown",
   "metadata": {},
   "source": [
    "# Question : 월별 방문자 수는 어떻게 변하는가?"
   ]
  },
  {
   "cell_type": "markdown",
   "metadata": {},
   "source": [
    "### Import "
   ]
  },
  {
   "cell_type": "code",
   "execution_count": 2,
   "metadata": {},
   "outputs": [],
   "source": [
    "import pandas as pd\n",
    "from scipy import stats\n",
    "import matplotlib.pyplot as plt\n",
    "import warnings \n",
    "\n",
    "plt.rcParams['font.family'] = 'AppleGothic'\n",
    "warnings.filterwarnings('ignore')"
   ]
  },
  {
   "cell_type": "markdown",
   "metadata": {},
   "source": [
    "### Load"
   ]
  },
  {
   "cell_type": "code",
   "execution_count": 3,
   "metadata": {},
   "outputs": [
    {
     "data": {
      "text/html": [
       "<div>\n",
       "<style scoped>\n",
       "    .dataframe tbody tr th:only-of-type {\n",
       "        vertical-align: middle;\n",
       "    }\n",
       "\n",
       "    .dataframe tbody tr th {\n",
       "        vertical-align: top;\n",
       "    }\n",
       "\n",
       "    .dataframe thead th {\n",
       "        text-align: right;\n",
       "    }\n",
       "</style>\n",
       "<table border=\"1\" class=\"dataframe\">\n",
       "  <thead>\n",
       "    <tr style=\"text-align: right;\">\n",
       "      <th></th>\n",
       "      <th>닉네임</th>\n",
       "      <th>핸디</th>\n",
       "      <th>에버리지</th>\n",
       "      <th>날짜</th>\n",
       "      <th>종일</th>\n",
       "      <th>주간</th>\n",
       "      <th>야간</th>\n",
       "      <th>심야</th>\n",
       "    </tr>\n",
       "  </thead>\n",
       "  <tbody>\n",
       "    <tr>\n",
       "      <th>0</th>\n",
       "      <td>도치</td>\n",
       "      <td>32</td>\n",
       "      <td>0.936</td>\n",
       "      <td>2023-04-01</td>\n",
       "      <td>0</td>\n",
       "      <td>1</td>\n",
       "      <td>0</td>\n",
       "      <td>0</td>\n",
       "    </tr>\n",
       "    <tr>\n",
       "      <th>1</th>\n",
       "      <td>큐사리</td>\n",
       "      <td>30</td>\n",
       "      <td>0.865</td>\n",
       "      <td>2023-04-01</td>\n",
       "      <td>0</td>\n",
       "      <td>1</td>\n",
       "      <td>0</td>\n",
       "      <td>0</td>\n",
       "    </tr>\n",
       "    <tr>\n",
       "      <th>2</th>\n",
       "      <td>레쓰비</td>\n",
       "      <td>30</td>\n",
       "      <td>0.797</td>\n",
       "      <td>2023-04-01</td>\n",
       "      <td>1</td>\n",
       "      <td>0</td>\n",
       "      <td>0</td>\n",
       "      <td>0</td>\n",
       "    </tr>\n",
       "    <tr>\n",
       "      <th>3</th>\n",
       "      <td>이장님</td>\n",
       "      <td>30</td>\n",
       "      <td>0.778</td>\n",
       "      <td>2023-04-01</td>\n",
       "      <td>0</td>\n",
       "      <td>1</td>\n",
       "      <td>0</td>\n",
       "      <td>0</td>\n",
       "    </tr>\n",
       "    <tr>\n",
       "      <th>4</th>\n",
       "      <td>서병관</td>\n",
       "      <td>30</td>\n",
       "      <td>0.723</td>\n",
       "      <td>2023-04-01</td>\n",
       "      <td>0</td>\n",
       "      <td>0</td>\n",
       "      <td>0</td>\n",
       "      <td>0</td>\n",
       "    </tr>\n",
       "  </tbody>\n",
       "</table>\n",
       "</div>"
      ],
      "text/plain": [
       "   닉네임  핸디   에버리지          날짜  종일  주간  야간  심야\n",
       "0   도치  32  0.936  2023-04-01   0   1   0   0\n",
       "1  큐사리  30  0.865  2023-04-01   0   1   0   0\n",
       "2  레쓰비  30  0.797  2023-04-01   1   0   0   0\n",
       "3  이장님  30  0.778  2023-04-01   0   1   0   0\n",
       "4  서병관  30  0.723  2023-04-01   0   0   0   0"
      ]
     },
     "execution_count": 3,
     "metadata": {},
     "output_type": "execute_result"
    }
   ],
   "source": [
    "file_path = './data'\n",
    "\n",
    "df = pd.read_csv(file_path + '/billiards_processing.csv')\n",
    "df.head()"
   ]
  },
  {
   "cell_type": "markdown",
   "metadata": {},
   "source": [
    "### Info"
   ]
  },
  {
   "cell_type": "code",
   "execution_count": 4,
   "metadata": {},
   "outputs": [
    {
     "name": "stdout",
     "output_type": "stream",
     "text": [
      "<class 'pandas.core.frame.DataFrame'>\n",
      "RangeIndex: 4641 entries, 0 to 4640\n",
      "Data columns (total 8 columns):\n",
      " #   Column  Non-Null Count  Dtype  \n",
      "---  ------  --------------  -----  \n",
      " 0   닉네임     4641 non-null   object \n",
      " 1   핸디      4641 non-null   int64  \n",
      " 2   에버리지    4641 non-null   float64\n",
      " 3   날짜      4641 non-null   object \n",
      " 4   종일      4641 non-null   int64  \n",
      " 5   주간      4641 non-null   int64  \n",
      " 6   야간      4641 non-null   int64  \n",
      " 7   심야      4641 non-null   int64  \n",
      "dtypes: float64(1), int64(5), object(2)\n",
      "memory usage: 290.2+ KB\n"
     ]
    }
   ],
   "source": [
    "df.info()"
   ]
  },
  {
   "cell_type": "markdown",
   "metadata": {},
   "source": [
    "### Type Conversion"
   ]
  },
  {
   "cell_type": "code",
   "execution_count": 58,
   "metadata": {},
   "outputs": [],
   "source": [
    "# '날짜' 컬럼을 날짜 타입으로 변환\n",
    "df['날짜'] = pd.to_datetime(df['날짜'], format='%Y-%m-%d')\n",
    "\n",
    "# Check\n",
    "# df.info()"
   ]
  },
  {
   "cell_type": "markdown",
   "metadata": {},
   "source": [
    "### 월별 방문자 수 변화"
   ]
  },
  {
   "cell_type": "code",
   "execution_count": 63,
   "metadata": {},
   "outputs": [
    {
     "data": {
      "text/html": [
       "<div>\n",
       "<style scoped>\n",
       "    .dataframe tbody tr th:only-of-type {\n",
       "        vertical-align: middle;\n",
       "    }\n",
       "\n",
       "    .dataframe tbody tr th {\n",
       "        vertical-align: top;\n",
       "    }\n",
       "\n",
       "    .dataframe thead th {\n",
       "        text-align: right;\n",
       "    }\n",
       "</style>\n",
       "<table border=\"1\" class=\"dataframe\">\n",
       "  <thead>\n",
       "    <tr style=\"text-align: right;\">\n",
       "      <th></th>\n",
       "      <th>월</th>\n",
       "      <th>방문</th>\n",
       "    </tr>\n",
       "  </thead>\n",
       "  <tbody>\n",
       "    <tr>\n",
       "      <th>0</th>\n",
       "      <td>4</td>\n",
       "      <td>1052</td>\n",
       "    </tr>\n",
       "    <tr>\n",
       "      <th>1</th>\n",
       "      <td>5</td>\n",
       "      <td>1098</td>\n",
       "    </tr>\n",
       "    <tr>\n",
       "      <th>2</th>\n",
       "      <td>6</td>\n",
       "      <td>1114</td>\n",
       "    </tr>\n",
       "  </tbody>\n",
       "</table>\n",
       "</div>"
      ],
      "text/plain": [
       "   월    방문\n",
       "0  4  1052\n",
       "1  5  1098\n",
       "2  6  1114"
      ]
     },
     "execution_count": 63,
     "metadata": {},
     "output_type": "execute_result"
    }
   ],
   "source": [
    "# '날짜'에서 월을 추출하여 새로운 열 생성\n",
    "df['월'] = df['날짜'].dt.month\n",
    "\n",
    "# 각 월별 방문 수 합산 (종일, 주간, 야간, 심야 중 하나라도 방문한 경우를 방문로 간주)\n",
    "df['방문'] = (df[['종일', '주간', '야간', '심야']].sum(axis=1) > 0).astype(int)\n",
    "\n",
    "# 월별 방문 수 집계\n",
    "monthly_visits = df.groupby('월')['방문'].sum().reset_index()\n",
    "\n",
    "# Result\n",
    "monthly_visits"
   ]
  },
  {
   "cell_type": "markdown",
   "metadata": {},
   "source": [
    "#### 시각화"
   ]
  },
  {
   "cell_type": "code",
   "execution_count": 66,
   "metadata": {},
   "outputs": [
    {
     "data": {
      "image/png": "[encoded data removed]",
      "text/plain": [
       "<Figure size 800x600 with 1 Axes>"
      ]
     },
     "metadata": {},
     "output_type": "display_data"
    }
   ],
   "source": [
    "plt.figure(figsize=(8, 6))\n",
    "\n",
    "bars = plt.bar(monthly_visits['월'], monthly_visits['방문'], color=['#1f77b4', '#ff7f0e', '#2ca02c'], alpha=0.8)\n",
    "\n",
    "plt.title('월별 방문 수 변화 (4월, 5월, 6월)', fontsize=14)\n",
    "plt.xlabel('월', fontsize=12)\n",
    "plt.ylabel('방문 수', fontsize=12)\n",
    "plt.xticks([4, 5, 6], ['4월', '5월', '6월'], fontsize=12)\n",
    "plt.ylim(1000, monthly_visits['방문'].max() + 20)\n",
    "\n",
    "for bar in bars:\n",
    "    yval = bar.get_height()\n",
    "    plt.text(bar.get_x() + bar.get_width() / 2, yval - (yval - 1000) / 2, \n",
    "             int(yval), ha='center', va='center', color='white', fontsize=12)\n",
    "    \n",
    "plt.tight_layout()\n",
    "plt.show()"
   ]
  },
  {
   "cell_type": "markdown",
   "metadata": {},
   "source": [
    "#### 통계적 검정\n",
    "- 귀무가설(H0) : 4월, 5월, 6월의 방문 수 평균에 유의미한 차이가 없다.\n",
    "- 대립가설(H1) : 4월, 5월, 6월의 방문 수 평균에 유의미한 차이가 있다."
   ]
  },
  {
   "cell_type": "code",
   "execution_count": 67,
   "metadata": {},
   "outputs": [
    {
     "name": "stdout",
     "output_type": "stream",
     "text": [
      "F-statistic: 3.4578354916205165\n",
      "P-value: 0.03157909016328504\n",
      "귀무가설 기각\n"
     ]
    }
   ],
   "source": [
    "# 4월, 5월, 6월 방문 데이터 추출\n",
    "April = df[df['월'] == 4]['방문']\n",
    "May = df[df['월'] == 5]['방문']\n",
    "June = df[df['월'] == 6]['방문']\n",
    "\n",
    "# ANOVA 검정\n",
    "f_statistic, p_value = stats.f_oneway(April, May, June)\n",
    "\n",
    "print(f\"F-statistic: {f_statistic}\")\n",
    "print(f\"P-value: {p_value}\")\n",
    "\n",
    "# 유의수준 0.05로 유의미한 차이가 있는지 확인\n",
    "if p_value < 0.05:\n",
    "    print(\"귀무가설 기각\")\n",
    "else:\n",
    "    print(\"귀무가설 채택\")"
   ]
  }
 ],
 "metadata": {
  "kernelspec": {
   "display_name": "base",
   "language": "python",
   "name": "python3"
  },
  "language_info": {
   "codemirror_mode": {
    "name": "ipython",
    "version": 3
   },
   "file_extension": ".py",
   "mimetype": "text/x-python",
   "name": "python",
   "nbconvert_exporter": "python",
   "pygments_lexer": "ipython3",
   "version": "3.10.14"
  }
 },
 "nbformat": 4,
 "nbformat_minor": 2
}

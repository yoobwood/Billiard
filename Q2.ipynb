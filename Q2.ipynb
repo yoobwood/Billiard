{
 "cells": [
  {
   "cell_type": "markdown",
   "metadata": {},
   "source": [
    "# Question : 평일과 주말에 따른 방문 패턴의 차이는 무엇인가?"
   ]
  },
  {
   "cell_type": "markdown",
   "metadata": {},
   "source": [
    "### Import"
   ]
  },
  {
   "cell_type": "code",
   "execution_count": 2,
   "metadata": {},
   "outputs": [],
   "source": [
    "import pandas as pd\n",
    "from scipy import stats\n",
    "import seaborn as sns\n",
    "import matplotlib.pyplot as plt\n",
    "import warnings \n",
    "\n",
    "plt.rcParams['font.family'] = 'AppleGothic'\n",
    "warnings.filterwarnings('ignore')"
   ]
  },
  {
   "cell_type": "markdown",
   "metadata": {},
   "source": [
    "### Load"
   ]
  },
  {
   "cell_type": "code",
   "execution_count": 3,
   "metadata": {},
   "outputs": [
    {
     "data": {
      "text/html": [
       "<div>\n",
       "<style scoped>\n",
       "    .dataframe tbody tr th:only-of-type {\n",
       "        vertical-align: middle;\n",
       "    }\n",
       "\n",
       "    .dataframe tbody tr th {\n",
       "        vertical-align: top;\n",
       "    }\n",
       "\n",
       "    .dataframe thead th {\n",
       "        text-align: right;\n",
       "    }\n",
       "</style>\n",
       "<table border=\"1\" class=\"dataframe\">\n",
       "  <thead>\n",
       "    <tr style=\"text-align: right;\">\n",
       "      <th></th>\n",
       "      <th>닉네임</th>\n",
       "      <th>핸디</th>\n",
       "      <th>에버리지</th>\n",
       "      <th>날짜</th>\n",
       "      <th>종일</th>\n",
       "      <th>주간</th>\n",
       "      <th>야간</th>\n",
       "      <th>심야</th>\n",
       "    </tr>\n",
       "  </thead>\n",
       "  <tbody>\n",
       "    <tr>\n",
       "      <th>0</th>\n",
       "      <td>도치</td>\n",
       "      <td>32</td>\n",
       "      <td>0.936</td>\n",
       "      <td>2023-04-01</td>\n",
       "      <td>0</td>\n",
       "      <td>1</td>\n",
       "      <td>0</td>\n",
       "      <td>0</td>\n",
       "    </tr>\n",
       "    <tr>\n",
       "      <th>1</th>\n",
       "      <td>큐사리</td>\n",
       "      <td>30</td>\n",
       "      <td>0.865</td>\n",
       "      <td>2023-04-01</td>\n",
       "      <td>0</td>\n",
       "      <td>1</td>\n",
       "      <td>0</td>\n",
       "      <td>0</td>\n",
       "    </tr>\n",
       "    <tr>\n",
       "      <th>2</th>\n",
       "      <td>레쓰비</td>\n",
       "      <td>30</td>\n",
       "      <td>0.797</td>\n",
       "      <td>2023-04-01</td>\n",
       "      <td>1</td>\n",
       "      <td>0</td>\n",
       "      <td>0</td>\n",
       "      <td>0</td>\n",
       "    </tr>\n",
       "    <tr>\n",
       "      <th>3</th>\n",
       "      <td>이장님</td>\n",
       "      <td>30</td>\n",
       "      <td>0.778</td>\n",
       "      <td>2023-04-01</td>\n",
       "      <td>0</td>\n",
       "      <td>1</td>\n",
       "      <td>0</td>\n",
       "      <td>0</td>\n",
       "    </tr>\n",
       "    <tr>\n",
       "      <th>4</th>\n",
       "      <td>서병관</td>\n",
       "      <td>30</td>\n",
       "      <td>0.723</td>\n",
       "      <td>2023-04-01</td>\n",
       "      <td>0</td>\n",
       "      <td>0</td>\n",
       "      <td>0</td>\n",
       "      <td>0</td>\n",
       "    </tr>\n",
       "  </tbody>\n",
       "</table>\n",
       "</div>"
      ],
      "text/plain": [
       "   닉네임  핸디   에버리지          날짜  종일  주간  야간  심야\n",
       "0   도치  32  0.936  2023-04-01   0   1   0   0\n",
       "1  큐사리  30  0.865  2023-04-01   0   1   0   0\n",
       "2  레쓰비  30  0.797  2023-04-01   1   0   0   0\n",
       "3  이장님  30  0.778  2023-04-01   0   1   0   0\n",
       "4  서병관  30  0.723  2023-04-01   0   0   0   0"
      ]
     },
     "execution_count": 3,
     "metadata": {},
     "output_type": "execute_result"
    }
   ],
   "source": [
    "file_path = './data'\n",
    "\n",
    "df = pd.read_csv(file_path + '/billiards_processing.csv')\n",
    "df.head()"
   ]
  },
  {
   "cell_type": "markdown",
   "metadata": {},
   "source": [
    "### Info"
   ]
  },
  {
   "cell_type": "code",
   "execution_count": 4,
   "metadata": {},
   "outputs": [
    {
     "name": "stdout",
     "output_type": "stream",
     "text": [
      "<class 'pandas.core.frame.DataFrame'>\n",
      "RangeIndex: 4641 entries, 0 to 4640\n",
      "Data columns (total 8 columns):\n",
      " #   Column  Non-Null Count  Dtype  \n",
      "---  ------  --------------  -----  \n",
      " 0   닉네임     4641 non-null   object \n",
      " 1   핸디      4641 non-null   int64  \n",
      " 2   에버리지    4641 non-null   float64\n",
      " 3   날짜      4641 non-null   object \n",
      " 4   종일      4641 non-null   int64  \n",
      " 5   주간      4641 non-null   int64  \n",
      " 6   야간      4641 non-null   int64  \n",
      " 7   심야      4641 non-null   int64  \n",
      "dtypes: float64(1), int64(5), object(2)\n",
      "memory usage: 290.2+ KB\n"
     ]
    }
   ],
   "source": [
    "df.info()"
   ]
  },
  {
   "cell_type": "code",
   "execution_count": 5,
   "metadata": {},
   "outputs": [],
   "source": [
    "# '날짜'를 날짜 형식으로 변환\n",
    "df['날짜'] = pd.to_datetime(df['날짜'])\n",
    "\n",
    "# 요일 정보 추가 (0: 월요일 ~ 6: 일요일)\n",
    "df['요일'] = df['날짜'].dt.dayofweek\n",
    "\n",
    "# 평일(0-4)과 주말(5-6) 구분\n",
    "df['평일_주말'] = df['요일'].apply(lambda x: '평일' if x < 5 else '주말')"
   ]
  },
  {
   "cell_type": "code",
   "execution_count": 6,
   "metadata": {},
   "outputs": [],
   "source": [
    "# 각 시간대별로 방문 수를 구분 (하나라도 방문한 경우 방문자로 간주)\n",
    "df['야간_심야'] = ((df['야간'] + df['심야']) > 0).astype(int)\n",
    "df['종일_주간'] = ((df['종일'] + df['주간']) > 0).astype(int)"
   ]
  },
  {
   "cell_type": "code",
   "execution_count": 7,
   "metadata": {},
   "outputs": [
    {
     "data": {
      "text/html": [
       "<div>\n",
       "<style scoped>\n",
       "    .dataframe tbody tr th:only-of-type {\n",
       "        vertical-align: middle;\n",
       "    }\n",
       "\n",
       "    .dataframe tbody tr th {\n",
       "        vertical-align: top;\n",
       "    }\n",
       "\n",
       "    .dataframe thead th {\n",
       "        text-align: right;\n",
       "    }\n",
       "</style>\n",
       "<table border=\"1\" class=\"dataframe\">\n",
       "  <thead>\n",
       "    <tr style=\"text-align: right;\">\n",
       "      <th></th>\n",
       "      <th>평일_주말</th>\n",
       "      <th>야간_심야</th>\n",
       "      <th>종일_주간</th>\n",
       "    </tr>\n",
       "  </thead>\n",
       "  <tbody>\n",
       "    <tr>\n",
       "      <th>0</th>\n",
       "      <td>주말</td>\n",
       "      <td>329</td>\n",
       "      <td>654</td>\n",
       "    </tr>\n",
       "    <tr>\n",
       "      <th>1</th>\n",
       "      <td>평일</td>\n",
       "      <td>1392</td>\n",
       "      <td>889</td>\n",
       "    </tr>\n",
       "  </tbody>\n",
       "</table>\n",
       "</div>"
      ],
      "text/plain": [
       "  평일_주말  야간_심야  종일_주간\n",
       "0    주말    329    654\n",
       "1    평일   1392    889"
      ]
     },
     "execution_count": 7,
     "metadata": {},
     "output_type": "execute_result"
    }
   ],
   "source": [
    "# 평일과 주말에 따른 시간대별 방문 수 집계\n",
    "grouped = df.groupby('평일_주말')[['야간_심야', '종일_주간']].sum().reset_index()\n",
    "grouped"
   ]
  },
  {
   "cell_type": "markdown",
   "metadata": {},
   "source": [
    "### 시각화"
   ]
  },
  {
   "cell_type": "code",
   "execution_count": 8,
   "metadata": {},
   "outputs": [
    {
     "data": {
      "image/png": "[encoded data removed]",
      "text/plain": [
       "<Figure size 800x600 with 2 Axes>"
      ]
     },
     "metadata": {},
     "output_type": "display_data"
    }
   ],
   "source": [
    "heatmap_data = grouped[['야간_심야', '종일_주간']].T\n",
    "heatmap_data.columns = grouped['평일_주말']\n",
    "\n",
    "plt.figure(figsize=(8, 6))\n",
    "sns.heatmap(heatmap_data, annot=True, cmap='Blues', cbar=True, fmt='d')\n",
    "\n",
    "plt.title('평일과 주말 시간대별 방문 패턴 (히트맵)', fontsize=14)\n",
    "plt.xlabel('평일_주말', fontsize=12)\n",
    "plt.ylabel('시간대', fontsize=12)\n",
    "\n",
    "plt.tight_layout()\n",
    "plt.show()"
   ]
  },
  {
   "cell_type": "markdown",
   "metadata": {},
   "source": [
    "### 통계적 검정\n",
    "- 귀무가설(H₀): 평일과 주말의 야간 및 심야 시간대 방문 수 평균에 유의미한 차이가 없다.\n",
    "- 대립가설(H₁): 평일과 주말의 야간 및 심야 시간대 방문 수 평균에 유의미한 차이가 있다."
   ]
  },
  {
   "cell_type": "code",
   "execution_count": 10,
   "metadata": {},
   "outputs": [
    {
     "name": "stdout",
     "output_type": "stream",
     "text": [
      "야간+심야 T-검정 결과: t-statistic = 11.08749619976312, p-value = 3.253895200960797e-28\n",
      "평일과 주말 야간+심야 방문자 수에 유의미한 차이가 있습니다.\n"
     ]
    }
   ],
   "source": [
    "# 가설1: 평일과 주말의 야간 및 심야 시간대 방문자 수 차이 검정\n",
    "\n",
    "# 1. 평일과 주말의 '야간_심야' 데이터 분리\n",
    "평일_야간_심야 = df[df['평일_주말'] == '평일']['야간_심야']\n",
    "주말_야간_심야 = df[df['평일_주말'] == '주말']['야간_심야']\n",
    "\n",
    "# 2. T-검정 수행\n",
    "t_stat_야간_심야, p_value_야간_심야 = stats.ttest_ind(평일_야간_심야, 주말_야간_심야)\n",
    "\n",
    "# 3. 결과 출력\n",
    "print(f\"야간+심야 T-검정 결과: t-statistic = {t_stat_야간_심야}, p-value = {p_value_야간_심야}\")\n",
    "\n",
    "# 4. 유의수준 0.05로 유의미한 차이가 있는지 확인\n",
    "if p_value_야간_심야 < 0.05:\n",
    "    print(\"평일과 주말 야간+심야 방문자 수에 유의미한 차이가 있습니다.\")\n",
    "else:\n",
    "    print(\"평일과 주말 야간+심야 방문자 수에 유의미한 차이가 없습니다.\")"
   ]
  },
  {
   "cell_type": "markdown",
   "metadata": {},
   "source": [
    "### 통계적 검정\n",
    "- 귀무가설(H₀): 평일과 주말의 종일 및 주간 시간대 방문 수 평균에 유의미한 차이가 없다.\n",
    "- 대립가설(H₁): 평일과 주말의 종일 및 주간 시간대 방문 수 평균에 유의미한 차이가 있다."
   ]
  },
  {
   "cell_type": "code",
   "execution_count": 11,
   "metadata": {},
   "outputs": [
    {
     "name": "stdout",
     "output_type": "stream",
     "text": [
      "종일+주간 T-검정 결과: t-statistic = -15.052635457160793, p-value = 4.954168875098667e-50\n",
      "평일과 주말 종일+주간 방문자 수에 유의미한 차이가 있습니다.\n"
     ]
    }
   ],
   "source": [
    "# 가설2: 평일과 주말의 종일 및 주간 시간대 방문자 수 차이 검정\n",
    "\n",
    "# 1. 평일과 주말의 '종일_주간' 데이터 분리\n",
    "평일_종일_주간 = df[df['평일_주말'] == '평일']['종일_주간']\n",
    "주말_종일_주간 = df[df['평일_주말'] == '주말']['종일_주간']\n",
    "\n",
    "# 2. T-검정 수행\n",
    "t_stat_종일_주간, p_value_종일_주간 = stats.ttest_ind(평일_종일_주간, 주말_종일_주간)\n",
    "\n",
    "# 3. 결과 출력\n",
    "print(f\"종일+주간 T-검정 결과: t-statistic = {t_stat_종일_주간}, p-value = {p_value_종일_주간}\")\n",
    "\n",
    "# 4. 유의수준 0.05로 유의미한 차이가 있는지 확인\n",
    "if p_value_종일_주간 < 0.05:\n",
    "    print(\"평일과 주말 종일+주간 방문자 수에 유의미한 차이가 있습니다.\")\n",
    "else:\n",
    "    print(\"평일과 주말 종일+주간 방문자 수에 유의미한 차이가 없습니다.\")\n"
   ]
  },
  {
   "cell_type": "code",
   "execution_count": null,
   "metadata": {},
   "outputs": [],
   "source": []
  }
 ],
 "metadata": {
  "kernelspec": {
   "display_name": "base",
   "language": "python",
   "name": "python3"
  },
  "language_info": {
   "codemirror_mode": {
    "name": "ipython",
    "version": 3
   },
   "file_extension": ".py",
   "mimetype": "text/x-python",
   "name": "python",
   "nbconvert_exporter": "python",
   "pygments_lexer": "ipython3",
   "version": "3.10.14"
  }
 },
 "nbformat": 4,
 "nbformat_minor": 2
}
